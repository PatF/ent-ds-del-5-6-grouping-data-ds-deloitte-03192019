{
 "cells": [
  {
   "cell_type": "markdown",
   "metadata": {},
   "source": [
    "# Grouping Data with SQL\n",
    "\n",
    "## Introduction\n",
    "\n",
    "Another very useful tool in SQL is the ability to run aggregate functions. For example, in the customer database below, you might want to look at mean or median sales to compare them across offices or regions.\n",
    "\n",
    "## Objectives\n",
    "\n",
    "You will be able to:\n",
    "\n",
    "* Write queries with aggregate functions like `COUNT`, `MAX`, `MIN`, and `SUM`\n",
    "* Create an alias for the return value of an aggregate function\n",
    "* Use `GROUP BY` to sort the data sets returned by aggregate functions\n",
    "* Compare aggregates using the `HAVING` clause"
   ]
  },
  {
   "cell_type": "markdown",
   "metadata": {},
   "source": [
    "## Database Schema\n",
    "<img src=\"images/Database-Schema.png\">"
   ]
  },
  {
   "cell_type": "code",
   "execution_count": null,
   "metadata": {},
   "outputs": [],
   "source": [
    "import sqlite3\n",
    "import pandas as pd"
   ]
  },
  {
   "cell_type": "markdown",
   "metadata": {},
   "source": [
    "## Connecting to the Database\n",
    "\n",
    "As usual, start by creating a connection to the database."
   ]
  },
  {
   "cell_type": "code",
   "execution_count": null,
   "metadata": {},
   "outputs": [],
   "source": [
    "conn = sqlite3.Connection('data.sqlite')\n",
    "cur = conn.cursor()"
   ]
  },
  {
   "cell_type": "markdown",
   "metadata": {},
   "source": [
    "## Groupby and Aggregate Functions\n",
    "\n",
    "Lets start by looking at some `GROUP BY` statements to aggregate our data."
   ]
  },
  {
   "cell_type": "code",
   "execution_count": null,
   "metadata": {},
   "outputs": [],
   "source": [
    "#Here we join the offices and employees tables in order to count the number of employees per city.\n",
    "cur.execute(\"\"\"SELECT city,\n",
    "                      COUNT(employeeNumber)\n",
    "                      FROM offices\n",
    "                      JOIN employees\n",
    "                      USING(officeCode)\n",
    "                      GROUP BY city\n",
    "                      ORDER BY COUNT(employeeNumber) DESC;\"\"\")\n",
    "df = pd.DataFrame(cur.fetchall())\n",
    "df.columns = [x[0] for x in cur.description]\n",
    "df.head()"
   ]
  },
  {
   "cell_type": "markdown",
   "metadata": {},
   "source": [
    "## Aliasing\n",
    "You can also alias our groupby by specifying the number of our selection order that we want to group by. This is simply written as `group by 1` 1 referring to the first column name that we are selecting.\n",
    "\n",
    "Additionally, we can also rename our aggregate to a more descriptive name using the `as` clause."
   ]
  },
  {
   "cell_type": "code",
   "execution_count": null,
   "metadata": {},
   "outputs": [],
   "source": [
    "cur.execute(\"\"\"SELECT city,\n",
    "                      COUNT(employeeNumber) as numEmployees\n",
    "                      FROM offices\n",
    "                      JOIN employees\n",
    "                      USING(officeCode)\n",
    "                      GROUP BY 1\n",
    "                      ORDER BY numEmployees DESC;\"\"\")\n",
    "df = pd.DataFrame(cur.fetchall())\n",
    "df.columns = [x[0] for x in cur.description]\n",
    "df.head()"
   ]
  },
  {
   "cell_type": "markdown",
   "metadata": {},
   "source": [
    "## Other Aggregations\n",
    "\n",
    "Aside from count() some other useful aggregations include:\n",
    "    * min()\n",
    "    * max()\n",
    "    * sum()\n",
    "    * avg()"
   ]
  },
  {
   "cell_type": "code",
   "execution_count": null,
   "metadata": {},
   "outputs": [],
   "source": [
    "cur.execute(\"\"\"SELECT customerName,\n",
    "                      COUNT(*) as number_purchases,\n",
    "                      MIN(amount) as min_purchase,\n",
    "                      MAX(amount) as max_purchase,\n",
    "                      AVG(amount) as avg_purchase,\n",
    "                      SUM(amount) as total_spent\n",
    "                      FROM customers\n",
    "                      JOIN payments\n",
    "                      USING(customerNumber)\n",
    "                      GROUP BY 1\n",
    "                      ORDER BY SUM(amount) DESC;\"\"\")\n",
    "df = pd.DataFrame(cur.fetchall())\n",
    "df. columns = [i[0] for i in cur.description]\n",
    "print(len(df))\n",
    "df.head()"
   ]
  },
  {
   "cell_type": "code",
   "execution_count": null,
   "metadata": {},
   "outputs": [],
   "source": [
    "df.tail()"
   ]
  },
  {
   "cell_type": "markdown",
   "metadata": {},
   "source": [
    "## The having clause\n",
    "\n",
    "Finally, we can also filter our aggregated views with the having clause. The having clause works like the where clause but is used to filter data selections on conditions post the group by. For example, if we wanted to filter based on a customer's last name, we would use the where clause. However, if we wanted to filter a list of city's with at least 5 customers, we would using the having clause; we would first groupby city and count the number of customers, and the having clause allows us to pass conditions on the result of this aggregation."
   ]
  },
  {
   "cell_type": "code",
   "execution_count": null,
   "metadata": {},
   "outputs": [],
   "source": [
    "cur.execute(\"\"\"SELECT city,\n",
    "                      COUNT(customerNumber) AS number_customers\n",
    "                      FROM customers\n",
    "                      GROUP BY 1\n",
    "                      HAVING COUNT(customerNumber)>=5;\"\"\")\n",
    "df = pd.DataFrame(cur.fetchall())\n",
    "df. columns = [i[0] for i in cur.description]\n",
    "print(len(df))\n",
    "df.head()"
   ]
  },
  {
   "cell_type": "markdown",
   "metadata": {},
   "source": [
    "## Combining the where and having clause\n",
    "We can also use the where and having clause in conjunction with each other for more complex rules.\n",
    "For example, let's say we want a list of customers who have made at least 3 purchases of over 50K each."
   ]
  },
  {
   "cell_type": "code",
   "execution_count": null,
   "metadata": {},
   "outputs": [],
   "source": [
    "cur.execute(\"\"\"SELECT customerName,\n",
    "                      COUNT(amount) AS number_purchases_over_50K\n",
    "                      FROM customers\n",
    "                      JOIN payments\n",
    "                      USING(customerNumber)\n",
    "                      WHERE amount >= 50000\n",
    "                      GROUP BY 1\n",
    "                      HAVING COUNT(amount) >= 3\n",
    "                      ORDER BY COUNT(amount) DESC;\"\"\")\n",
    "df = pd.DataFrame(cur.fetchall())\n",
    "df. columns = [i[0] for i in cur.description]\n",
    "print(len(df))\n",
    "df.head()"
   ]
  },
  {
   "cell_type": "code",
   "execution_count": null,
   "metadata": {},
   "outputs": [],
   "source": [
    "df.tail()"
   ]
  },
  {
   "cell_type": "markdown",
   "metadata": {},
   "source": [
    "## Summary\n",
    "\n",
    "After this section, you should have a good idea of how to use aggregate functions, aliases and the `HAVING` clause to filter selections."
   ]
  }
 ],
 "metadata": {
  "kernelspec": {
   "display_name": "Python 3",
   "language": "python",
   "name": "python3"
  },
  "language_info": {
   "codemirror_mode": {
    "name": "ipython",
    "version": 3
   },
   "file_extension": ".py",
   "mimetype": "text/x-python",
   "name": "python",
   "nbconvert_exporter": "python",
   "pygments_lexer": "ipython3",
   "version": "3.6.5"
  }
 },
 "nbformat": 4,
 "nbformat_minor": 2
}
